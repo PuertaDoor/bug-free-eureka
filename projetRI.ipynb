{
 "cells": [
  {
   "cell_type": "code",
   "execution_count": 12,
   "id": "d8b4e84b-a787-43a5-9d8f-e9c8285d9d54",
   "metadata": {},
   "outputs": [],
   "source": [
    "from experimaestro import experiment\n",
    "from xpmir.measures import R, nDCG\n",
    "from xpmir.neural.colbert import Colbert"
   ]
  },
  {
   "cell_type": "code",
   "execution_count": null,
   "id": "251cded6-5902-422a-88ba-e66c96d9869f",
   "metadata": {},
   "outputs": [],
   "source": [
    "# EXPERIMENTS\n",
    "\n",
    "logging.getLogger().setLevel(logging.INFO)\n",
    "\n",
    "with experiment(\"experiments\", \"bm25\", port=12345) as xp:\n",
    "    xp.setenv(\"JAVA_HOME\", os.environ[\"JAVA_HOME\"])\n",
    "    \n",
    "    index = IndexCollection(documents=dataset2019.documents, storePositions=True, storeDocvectors=True, storeContents=True, threads=6).submit()\n",
    "    bm25_retriever = AnseriniRetriever(k=1000, index=index, model=BM25())\n",
    "    bm25_eval = Evaluate(dataset=dataset2020, retriever=bm25_retriever, measures=[\n",
    "        AP@10, nDCG@3, RR, nDCG@10, R@10\n",
    "    ]).submit()\n",
    "\n",
    "print(\"BM25 results\")\n",
    "print(bm25_eval.results.read_text())"
   ]
  }
 ],
 "metadata": {
  "kernelspec": {
   "display_name": "Python 3",
   "language": "python",
   "name": "python3"
  },
  "language_info": {
   "codemirror_mode": {
    "name": "ipython",
    "version": 3
   },
   "file_extension": ".py",
   "mimetype": "text/x-python",
   "name": "python",
   "nbconvert_exporter": "python",
   "pygments_lexer": "ipython3",
   "version": "3.9.13"
  }
 },
 "nbformat": 4,
 "nbformat_minor": 5
}
